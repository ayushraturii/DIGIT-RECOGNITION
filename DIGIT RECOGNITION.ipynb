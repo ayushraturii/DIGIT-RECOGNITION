{
 "cells": [
  {
   "cell_type": "code",
   "execution_count": 137,
   "id": "837521bf",
   "metadata": {},
   "outputs": [],
   "source": [
    "import numpy as np\n",
    "import matplotlib.pyplot as plt\n",
    "import random\n"
   ]
  },
  {
   "cell_type": "code",
   "execution_count": 138,
   "id": "bfbdb61d",
   "metadata": {},
   "outputs": [],
   "source": [
    "X_train=np.loadtxt('train_X.csv',delimiter=',').T\n",
    "Y_train=np.loadtxt('train_label.csv',delimiter=',').T\n",
    "\n",
    "X_test=np.loadtxt('test_X.csv',delimiter=',').T\n",
    "Y_test=np.loadtxt('test_label.csv',delimiter=',').T"
   ]
  },
  {
   "cell_type": "code",
   "execution_count": 139,
   "id": "257268b6",
   "metadata": {},
   "outputs": [
    {
     "name": "stdout",
     "output_type": "stream",
     "text": [
      "shape of x train\t (784, 1000)\n",
      "shape of y train\t (10, 1000)\n",
      "shape of x test\t (784, 350)\n",
      "shape of y test\t (10, 350)\n"
     ]
    }
   ],
   "source": [
    "print(\"shape of x train\\t\",X_train.shape)\n",
    "print(\"shape of y train\\t\",Y_train.shape)\n",
    "print(\"shape of x test\\t\",X_test.shape)\n",
    "print(\"shape of y test\\t\",Y_test.shape)"
   ]
  },
  {
   "cell_type": "code",
   "execution_count": 140,
   "id": "504cfcc7",
   "metadata": {},
   "outputs": [
    {
     "data": {
      "image/png": "[encoded data removed]",
      "text/plain": [
       "<Figure size 640x480 with 1 Axes>"
      ]
     },
     "metadata": {},
     "output_type": "display_data"
    }
   ],
   "source": [
    "index=random.randrange(0,X_train.shape[1])\n",
    "plt.imshow(x_train[:,index].reshape(28,28),cmap='gray')\n",
    "plt.show()"
   ]
  },
  {
   "cell_type": "code",
   "execution_count": 141,
   "id": "70986735",
   "metadata": {},
   "outputs": [],
   "source": [
    "#implement"
   ]
  },
  {
   "cell_type": "code",
   "execution_count": 142,
   "id": "3d9a0ba1",
   "metadata": {},
   "outputs": [],
   "source": [
    "#activation function\n",
    "def tanh(x):\n",
    "    return np.tanh(x)\n",
    "\n",
    "def relu(x):\n",
    "    return np.maximum(x,0)\n",
    "\n",
    "def softmax(x):\n",
    "    expX=np.exp(x)\n",
    "    return expX/np.sum(expX,axis=0)"
   ]
  },
  {
   "cell_type": "code",
   "execution_count": 143,
   "id": "4af740e0",
   "metadata": {},
   "outputs": [],
   "source": [
    "#derivatives\n",
    "def derivative_tanh(x):\n",
    "    return 1-np.power(np.tanh(x),2)\n",
    "\n",
    "def derivative_relu(x):\n",
    "    return np.array(x>0,dtype=np.float32)"
   ]
  },
  {
   "cell_type": "code",
   "execution_count": 144,
   "id": "21350522",
   "metadata": {},
   "outputs": [],
   "source": [
    "\n",
    "#initialize parameters\n",
    "def initialize_parameters(n_x,n_h,n_y):\n",
    "    w1=np.random.randn(n_h,n_x)*0.01\n",
    "    b1=np.zeros((n_h,1))\n",
    "    \n",
    "    w2=np.random.randn(n_y,n_h)*0.01\n",
    "    b2=np.zeros((n_y,1))\n",
    "    \n",
    "    parameters={\n",
    "        'w1':w1,\n",
    "        'b1':b1,\n",
    "        'w2':w2,\n",
    "        'b2':b2\n",
    "    }\n",
    "    return parameters\n"
   ]
  },
  {
   "cell_type": "code",
   "execution_count": 151,
   "id": "89fd77d5",
   "metadata": {},
   "outputs": [],
   "source": [
    "#forward propagation\n",
    "def forward_propagation(x,parameters):\n",
    "    \n",
    "    w1=parameters['w1']\n",
    "    b1=parameters['b1']\n",
    "    w2=parameters['w2']\n",
    "    b2=parameters['b2']\n",
    "    \n",
    "    z1=np.dot(w1,x)+b1\n",
    "    a1=tanh(z1)\n",
    "    \n",
    "    z2 = np.dot(w2, a1) + b2\n",
    "    a2 = softmax(z2)\n",
    "    \n",
    "    forward_cache={\n",
    "        'z1':z1,\n",
    "        'a1':a1,\n",
    "        'z2':z2,\n",
    "        'a2':a2\n",
    "    }\n",
    "    return forward_cache\n"
   ]
  },
  {
   "cell_type": "code",
   "execution_count": 152,
   "id": "dc5b0b13",
   "metadata": {},
   "outputs": [],
   "source": [
    "#costfunction\n",
    "def cost_function(a2,y):\n",
    "    m=y.shape[1]\n",
    "    \n",
    "    cost=-(1/m)*np.sum(y*np.log(a2))\n",
    "    #cost=-(1/m)*np.sum(y*np.log(a2,0),1) \n",
    "    return cost"
   ]
  },
  {
   "cell_type": "code",
   "execution_count": 153,
   "id": "b5a9bd29",
   "metadata": {},
   "outputs": [],
   "source": [
    "#backward propagation\n",
    "def backward_propagation(x,y,parameters,forward_cache):\n",
    "    \n",
    "    w1=parameters['w1']\n",
    "    b1=parameters['b1']\n",
    "    w2=parameters['w2']\n",
    "    b2=parameters['b2']\n",
    "    \n",
    "    a1=forward_cache['a1']\n",
    "    a2=forward_cache['a2']\n",
    "    \n",
    "    m=x.shape[1]\n",
    "    \n",
    "    dz2=(a2-y)\n",
    "    dw2=(1/m)*(np.dot(dz2,a1.T))\n",
    "    db2=(1/m)*np.sum(dz2,axis=1,keepdims=True)\n",
    "    \n",
    "    dz1=(1/m)*np.dot(w2.T,dz2)*derivative_tanh(a1)\n",
    "    dw1=(1/m)*np.dot(dz1,x.T)\n",
    "    db1=(1/m)*np.sum(dz1,axis=1,keepdims=True)\n",
    "    \n",
    "    gradients={\n",
    "        'dw1':dw1,\n",
    "        'db1':db1,\n",
    "        'dw2':dw2,\n",
    "        'db2':db2,\n",
    "    }\n",
    "    return gradients\n",
    "\n",
    "    \n",
    "    "
   ]
  },
  {
   "cell_type": "code",
   "execution_count": 168,
   "id": "29c26cbc",
   "metadata": {},
   "outputs": [],
   "source": [
    "def update_parameters(parameters,gradients,learning_rate):\n",
    "    w1=parameters['w1']\n",
    "    b1=parameters['b1']\n",
    "    w2=parameters['w2']\n",
    "    b2=parameters['b2']\n",
    "    \n",
    "    dw1=gradients['dw1']\n",
    "    db1=gradients['db1']\n",
    "    dw2=gradients['dw2']\n",
    "    db2=gradients['db2']\n",
    "    \n",
    "    w1=w1-learning_rate*dw1\n",
    "    b1=b1-learning_rate*db1\n",
    "    w2=w2-learning_rate*dw2\n",
    "    b2=b2-learning_rate*db2\n",
    "    \n",
    "    parameters={\n",
    "        'w1':w1,\n",
    "        'b1':b1,\n",
    "        'w2':w2,\n",
    "        'b2':b2\n",
    "    }\n",
    "    return parameters\n",
    "\n",
    "    "
   ]
  },
  {
   "cell_type": "code",
   "execution_count": 169,
   "id": "863b89d9",
   "metadata": {},
   "outputs": [],
   "source": [
    "#complete model\n",
    "def model(x,y,n_h,learning_rate,iterations):\n",
    "    \n",
    "    n_x = x.shape[0]\n",
    "    n_y = y.shape[0]\n",
    "    \n",
    "    cost_list = []\n",
    "    \n",
    "    parameters = initialize_parameters(n_x, n_h, n_y)\n",
    "    \n",
    "    for i in range(iterations):\n",
    "        \n",
    "        forward_cache = forward_propagation(x, parameters)\n",
    "        \n",
    "        cost = cost_function(forward_cache['a2'], y)\n",
    "        \n",
    "        gradients = backward_propagation(x, y, parameters, forward_cache)\n",
    "        \n",
    "        parameters = update_parameters(parameters, gradients, learning_rate)\n",
    "        \n",
    "        cost_list.append(cost)\n",
    "        \n",
    "        if(i%(iterations/10) == 0):\n",
    "            print(\"Cost after\", i, \"iterations is :\", cost)\n",
    "        \n",
    "    return parameters, cost_list\n",
    "        "
   ]
  },
  {
   "cell_type": "code",
   "execution_count": 170,
   "id": "0ee5725d",
   "metadata": {},
   "outputs": [
    {
     "name": "stdout",
     "output_type": "stream",
     "text": [
      "Cost after 0 iterations is : 2.3154104814788496\n",
      "Cost after 10 iterations is : 1.1884776525231402\n",
      "Cost after 20 iterations is : 0.8410292735651991\n",
      "Cost after 30 iterations is : 0.6760419932071636\n",
      "Cost after 40 iterations is : 0.5762665946084767\n",
      "Cost after 50 iterations is : 0.5073613631360725\n",
      "Cost after 60 iterations is : 0.4558081456539165\n",
      "Cost after 70 iterations is : 0.4151504199511304\n",
      "Cost after 80 iterations is : 0.3818787095066175\n",
      "Cost after 90 iterations is : 0.35390330031327244\n"
     ]
    }
   ],
   "source": [
    "iterations=100\n",
    "iterations = 100\n",
    "n_h = 1000\n",
    "learning_rate = 0.02\n",
    "Parameters, Cost_list = model(X_train, Y_train, n_h = n_h, learning_rate = learning_rate, iterations = iterations)"
   ]
  },
  {
   "cell_type": "code",
   "execution_count": 172,
   "id": "41630a73",
   "metadata": {},
   "outputs": [
    {
     "data": {
      "image/png": "[encoded data removed]",
      "text/plain": [
       "<Figure size 640x480 with 1 Axes>"
      ]
     },
     "metadata": {},
     "output_type": "display_data"
    }
   ],
   "source": [
    "t=np.arange(0,iterations)\n",
    "plt.plot(t,Cost_list)\n",
    "plt.show()"
   ]
  },
  {
   "cell_type": "code",
   "execution_count": 187,
   "id": "da74afec",
   "metadata": {},
   "outputs": [],
   "source": [
    "def accuracy(inp,labels,Parameters):\n",
    "    forward_cache=forward_propagation(inp,Parameters)\n",
    "    a_out=forward_cache['a2']\n",
    "\n",
    "    a_out=np.argmax(a_out,0)\n",
    "\n",
    "    y_out=np.argmax(labels,0)\n",
    "\n",
    "\n",
    "    acc=np.mean(a_out==y_out)*100\n",
    "    return acc"
   ]
  },
  {
   "cell_type": "code",
   "execution_count": 189,
   "id": "d1854d7d",
   "metadata": {},
   "outputs": [
    {
     "name": "stdout",
     "output_type": "stream",
     "text": [
      "Accuracy of trained dataset is: 95.19999999999999 %\n",
      "Accuracy of tested dataset is: 85 %\n"
     ]
    }
   ],
   "source": [
    "print(\"Accuracy of trained dataset is:\",accuracy(X_train,Y_train,Parameters),\"%\")\n",
    "print(\"Accuracy of tested dataset is:\",round(accuracy(X_test,Y_test,Parameters)),\"%\")"
   ]
  },
  {
   "cell_type": "code",
   "execution_count": 193,
   "id": "bc50c90b",
   "metadata": {},
   "outputs": [
    {
     "data": {
      "image/png": "[encoded data removed]",
      "text/plain": [
       "<Figure size 640x480 with 1 Axes>"
      ]
     },
     "metadata": {},
     "output_type": "display_data"
    },
    {
     "name": "stdout",
     "output_type": "stream",
     "text": [
      "Our model says it is : 2\n"
     ]
    }
   ],
   "source": [
    "idx = int(random.randrange(0,X_test.shape[1]))\n",
    "plt.imshow(X_test[:, idx].reshape((28,28)),cmap='gray')\n",
    "plt.show()\n",
    "\n",
    "cache = forward_propagation(X_test[:, idx].reshape(X_test[:, idx].shape[0], 1), Parameters)\n",
    "a_pred = cache['a2']  \n",
    "a_pred = np.argmax(a_pred, 0)\n",
    "\n",
    "print(\"Our model says it is :\", a_pred[0])"
   ]
  },
  {
   "cell_type": "code",
   "execution_count": null,
   "id": "3073e769",
   "metadata": {},
   "outputs": [],
   "source": []
  }
 ],
 "metadata": {
  "kernelspec": {
   "display_name": "Python 3 (ipykernel)",
   "language": "python",
   "name": "python3"
  },
  "language_info": {
   "codemirror_mode": {
    "name": "ipython",
    "version": 3
   },
   "file_extension": ".py",
   "mimetype": "text/x-python",
   "name": "python",
   "nbconvert_exporter": "python",
   "pygments_lexer": "ipython3",
   "version": "3.11.4"
  }
 },
 "nbformat": 4,
 "nbformat_minor": 5
}
